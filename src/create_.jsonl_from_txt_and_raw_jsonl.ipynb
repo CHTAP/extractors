{
 "cells": [
  {
   "cell_type": "markdown",
   "metadata": {},
   "source": [
    "### Open the raw Json"
   ]
  },
  {
   "cell_type": "code",
   "execution_count": null,
   "metadata": {},
   "outputs": [],
   "source": [
    "import pandas as pd\n",
    "json_3_path= \"/Users/saeideh.shahrokh/projects/memex/original_data/memex_data_sample/2014/\"\n",
    "df_2014_12_01_0000= pd.read_json(json_3_path+\"2014_12_01_0000.jsonl\",lines=True)\n",
    "\n",
    "df_2014_12_01_0000.head()"
   ]
  },
  {
   "cell_type": "markdown",
   "metadata": {},
   "source": [
    "### loading text file with gold_urls"
   ]
  },
  {
   "cell_type": "code",
   "execution_count": null,
   "metadata": {},
   "outputs": [],
   "source": [
    "### loading text file with gold_urls\n",
    "\n",
    "g_url_2014_12_01_0000=[]\n",
    "with open(\"/Users/saeideh.shahrokh/projects/memex/original_data/memex_data_sample/data_sample/2014_12_01_0000_jasonl.txt\") as f:\n",
    "    g_url_2014_12_01_0000 = f.read().splitlines()\n",
    "print (len(g_url_2014_12_01_0000))\n",
    "print (g_url_2014_12_01_0000)"
   ]
  },
  {
   "cell_type": "markdown",
   "metadata": {},
   "source": [
    "### Slicing df for having gold urls"
   ]
  },
  {
   "cell_type": "code",
   "execution_count": null,
   "metadata": {},
   "outputs": [],
   "source": [
    "### Slicing df for having gold urls\n",
    "print (len(df_2014_12_01_0000['url']))\n",
    "df_2014_12_01_0000_new = df_2014_12_01_0000[df_2014_12_01_0000['url'].isin(g_url_2014_12_01_0000)]\n",
    "print (len(set(df_2014_12_01_0000_new['url'])))"
   ]
  },
  {
   "cell_type": "markdown",
   "metadata": {},
   "source": [
    "### write the new df in a .jsonl"
   ]
  },
  {
   "cell_type": "code",
   "execution_count": null,
   "metadata": {},
   "outputs": [],
   "source": [
    "with open('temp_1.jsonl', 'w') as f:\n",
    "    f.write(df_2014_12_01_0000_new.to_json(orient='records', lines=True))\n"
   ]
  }
 ],
 "metadata": {
  "kernelspec": {
   "display_name": "Python 3",
   "language": "python",
   "name": "python3"
  },
  "language_info": {
   "codemirror_mode": {
    "name": "ipython",
    "version": 3
   },
   "file_extension": ".py",
   "mimetype": "text/x-python",
   "name": "python",
   "nbconvert_exporter": "python",
   "pygments_lexer": "ipython3",
   "version": "3.6.5"
  }
 },
 "nbformat": 4,
 "nbformat_minor": 2
}
