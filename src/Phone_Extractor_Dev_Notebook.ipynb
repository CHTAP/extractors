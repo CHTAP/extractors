{
 "cells": [
  {
   "cell_type": "markdown",
   "metadata": {},
   "source": [
    "### Step 1: Parsing Files, Adding Candidates and Labels to Database"
   ]
  },
  {
   "cell_type": "code",
   "execution_count": 1,
   "metadata": {
    "collapsed": true
   },
   "outputs": [],
   "source": [
    "from __future__ import print_function\n",
    "from __future__ import division\n",
    "import json\n",
    "# Loading config\n",
    "with open(\"run_config.json\") as fl:\n",
    "    cfg = json.load(fl)\n",
    "cfg_params = cfg['parameters']\n",
    "\n",
    "# Setting snorkel path and output root\n",
    "import os\n",
    "from os.path import join\n",
    "output_root = join(cfg_params['output_path'],cfg_params['experiment_name'])\n",
    "os.environ['FONDUERDBNAME'] = cfg['postgres_db_name']\n",
    "os.environ['SNORKELDB'] = join(cfg['postgres_phone'],os.environ['FONDUERDBNAME'])\n",
    "\n",
    "# For loading input files\n",
    "import pandas as pd\n",
    "\n",
    "# For running Snorkel\n",
    "from snorkel.contrib.fonduer import SnorkelSession\n",
    "from snorkel.contrib.fonduer.models import candidate_subclass\n",
    "from snorkel.contrib.fonduer import HTMLPreprocessor, OmniParser\n",
    "from utils import HTMLListPreprocessor\n",
    "\n",
    "from sqlalchemy import create_engine\n",
    "snorkeldb = create_engine(os.environ['SNORKELDB'], isolation_level=\"AUTOCOMMIT\")"
   ]
  },
  {
   "cell_type": "code",
   "execution_count": 2,
   "metadata": {
    "collapsed": true
   },
   "outputs": [],
   "source": [
    "# Load labeled data from tsv\n",
    "# Creating path to labeled data\n",
    "pth_labeled = join(cfg['data_path'],'labels_and_splits')\n",
    "# Getting labele data file name\n",
    "fl_labeled = cfg['labeled_data_file']\n",
    "# Loading labeled data into dataframe\n",
    "df_labeled = pd.read_csv(join(pth_labeled,fl_labeled),sep='\\t')\n",
    "# Adding .html to filenames\n",
    "# NOTE: Need to add .html to all actual filenames before running\n",
    "#df_labeled.dtypes\n",
    "df_labeled['file name'] =df_labeled['file name'].astype('string') \n",
    "path_list_labeled = [_+'.html' for _ in df_labeled['file name'].tolist()]\n",
    "# print(\"hi\")\n",
    "# #Load unlabeled data from tsv\n",
    "fl_unlabeled = cfg['unlabeled_data_file']\n",
    "df_unlabeled = pd.read_csv(join(pth_labeled,fl_unlabeled),sep='\\t')\n",
    "path_list_unlabeled = [_+'.html' for _ in df_unlabeled['file name'].tolist()]\n",
    "\n",
    "# Start snorkel session and creating phone subclass\n",
    "session = SnorkelSession()\n",
    "Phone_Extraction = candidate_subclass('phone_extraction',[\"phone\"])\n",
    "# print(\"hi\")"
   ]
  },
  {
   "cell_type": "markdown",
   "metadata": {
    "collapsed": true
   },
   "source": [
    "### Parsing Documents"
   ]
  },
  {
   "cell_type": "code",
   "execution_count": 4,
   "metadata": {},
   "outputs": [
    {
     "name": "stdout",
     "output_type": "stream",
     "text": [
      "Clearing existing...\n",
      "Running UDF...\n"
     ]
    },
    {
     "name": "stderr",
     "output_type": "stream",
     "text": [
      "Warning, empty document 0620fe76-98ce-4add-9371-e4a752446e12 passed to CoreNLP"
     ]
    },
    {
     "name": "stdout",
     "output_type": "stream",
     "text": [
      "CPU times: user 687 ms, sys: 55.8 ms, total: 743 ms\n",
      "Wall time: 21.7 s\n"
     ]
    }
   ],
   "source": [
    "max_docs = cfg['max_docs']\n",
    "\n",
    "# Setting phone for raw data\n",
    "data_loc = join(cfg['data_path'],'raw_data')\n",
    "\n",
    "# Creating a list of paths for documents from both labeled and unlabeled data\n",
    "path_list = path_list_labeled[:max_docs]+path_list_unlabeled[:max_docs]\n",
    "\n",
    "# Preprocessing documents from path_list\n",
    "doc_preprocessor = HTMLListPreprocessor(data_loc,\\\n",
    "                                file_list=path_list)\n",
    "\n",
    "# Ingest data into Fonduer via parser\n",
    "corpus_parser = OmniParser(structural=True, lingual=True, visual=False)\n",
    "%time corpus_parser.apply(doc_preprocessor, parallelism=cfg['parallel'])"
   ]
  },
  {
   "cell_type": "code",
   "execution_count": 3,
   "metadata": {},
   "outputs": [
    {
     "name": "stdout",
     "output_type": "stream",
     "text": [
      "Documents: 20\n",
      "Phrases: 4890\n"
     ]
    }
   ],
   "source": [
    "from snorkel.contrib.fonduer.models import Document, Phrase\n",
    "\n",
    "# Checking database contents\n",
    "print(\"Documents:\", session.query(Document).count())\n",
    "print(\"Phrases:\", session.query(Phrase).count())"
   ]
  },
  {
   "cell_type": "markdown",
   "metadata": {},
   "source": [
    "## Step 2: Dividing into Test/Train, Extracting Features, Throttling\n"
   ]
  },
  {
   "cell_type": "code",
   "execution_count": 4,
   "metadata": {},
   "outputs": [
    {
     "name": "stdout",
     "output_type": "stream",
     "text": [
      "train: 10\n",
      "dev: 5\n",
      "test: 5\n",
      "[u'02663026-4377-4c61-a19e-907e81e74ce0',\n",
      " u'005dd27d-91c5-4569-b285-489391dcff4f',\n",
      " u'0189ca4e-f259-4bf3-8144-0e4fa64620e0',\n",
      " u'0069a7dd-9a03-4240-9073-77744c10b467',\n",
      " u'06370eb0-2ad4-4f4d-b176-18d1fd07ac0a',\n",
      " u'0582d3b3-90d9-4ecb-8603-c389d952cc63',\n",
      " u'0166a90b-5733-4336-88a0-b5a48fcb14fd',\n",
      " u'03be9e25-a022-4269-9164-7033e2564304',\n",
      " u'0034ff21-5d7a-4edf-9150-e22c5188dde1',\n",
      " u'001a5f8b-82c5-4428-b539-0c8a0f2f87c4']\n",
      "[u'0620fe76-98ce-4add-9371-e4a752446e12',\n",
      " u'be1e1310-3225-4a1c-ab2f-f62e8edaccc0',\n",
      " u'e9f9f542-64ed-433b-90ec-c38d884bbed0',\n",
      " u'2de9987a-d7d0-430c-be38-d2e67c91a4ed',\n",
      " u'8de9bb32-a6ca-4728-8bf0-1c29d2356485']\n",
      "[u'd7a3157d-eef3-4481-9eb4-bfe918a1112f',\n",
      " u'7a2e6be0-1f31-4fae-8a35-999168201995',\n",
      " u'ea011c10-0808-4ac5-adbf-0a3651bf40c1',\n",
      " u'1e2d23df-121c-4439-a18a-b833a0f96ba9',\n",
      " u'af95cbf5-c629-48a7-9f4c-eaa7a23ace3f']\n"
     ]
    }
   ],
   "source": [
    "# Getting all documents parsed by Fonduer\n",
    "docs = session.query(Document).order_by(Document.name).all()\n",
    "ld   = len(docs)\n",
    "\n",
    "# Setting up train, dev, and test sets\n",
    "train_docs = set()\n",
    "dev_docs   = set()\n",
    "test_docs  = set()\n",
    "\n",
    "# Creating list of (document name, Fonduer document object) tuples\n",
    "data = [(doc.name+'.html', doc) for doc in docs]\n",
    "data.sort(key=lambda x: x[0])\n",
    "\n",
    "# Adding unlabeled data to train set, \n",
    "# labaled data to dev/test sets in alternating fashion\n",
    "for i, (doc_name, doc) in enumerate(data):\n",
    "    if doc_name in path_list_unlabeled:\n",
    "        train_docs.add(doc)\n",
    "    else:\n",
    "        if len(dev_docs)<=len(test_docs):\n",
    "            dev_docs.add(doc)\n",
    "        else:\n",
    "            test_docs.add(doc)\n",
    "\n",
    "#Printing length of train/test/dev sets\n",
    "print(\"train:\",len(train_docs))\n",
    "print(\"dev:\" ,len(dev_docs))\n",
    "print(\"test:\",len(test_docs))\n",
    "\n",
    "#Printing some filenames \n",
    "from pprint import pprint\n",
    "pprint([x.name for x in train_docs])\n",
    "pprint([x.name for x in dev_docs])\n",
    "pprint([x.name for x in test_docs])"
   ]
  },
  {
   "cell_type": "code",
   "execution_count": 5,
   "metadata": {
    "collapsed": true
   },
   "outputs": [],
   "source": [
    "\n",
    "    \n",
    "from snorkel.contrib.fonduer.fonduer.candidates import OmniNgrams\n",
    "Phone_ngrams = OmniNgrams(n_max=1, split_tokens=[])\n"
   ]
  },
  {
   "cell_type": "code",
   "execution_count": 6,
   "metadata": {
    "collapsed": true
   },
   "outputs": [],
   "source": [
    "#Importing matchers module and defining google phone \n",
    "from snorkel.matchers import *\n",
    "'''This function uses Google phone library to extract phone number.'''\n",
    "from bs4 import BeautifulSoup\n",
    "import os\n",
    "\n",
    "import random\n",
    "import io\n",
    "import codecs\n",
    "import json\n",
    "from snorkel.matchers import *\n",
    "from phonenumbers.python import phonenumbers\n",
    "from snorkel.models import TemporarySpan\n",
    "\n",
    "\n",
    "def find_phone_number(span_input):\n",
    "    \n",
    "    span_input=span_input.get_span()\n",
    "    lst =[]\n",
    "    for match in phonenumbers.PhoneNumberMatcher(span_input, \"US\"):\n",
    "        num = phonenumbers.format_number(match.number, phonenumbers.PhoneNumberFormat.NATIONAL)\n",
    "        lst.append(num.encode('utf-8'))\n",
    "    \n",
    "    if len(lst)!=0:\n",
    "        \n",
    "        return True\n",
    "    \n",
    "    else:\n",
    "        return False\n",
    "       "
   ]
  },
  {
   "cell_type": "markdown",
   "metadata": {},
   "source": [
    "##### Link for Google Phone library\n",
    "https://github.com/daviddrysdale/python-phonenumbers"
   ]
  },
  {
   "cell_type": "code",
   "execution_count": 7,
   "metadata": {
    "scrolled": false
   },
   "outputs": [
    {
     "name": "stdout",
     "output_type": "stream",
     "text": [
      "Clearing existing...\n",
      "Running UDF...\n",
      "[========================================] 100%\n",
      "CPU times: user 831 ms, sys: 47.1 ms, total: 878 ms\n",
      "Wall time: 1.07 s\n",
      "Number of candidates: 39\n",
      "CPU times: user 3 µs, sys: 1e+03 ns, total: 4 µs\n",
      "Wall time: 7.87 µs\n",
      "Clearing existing...\n",
      "Running UDF...\n",
      "Number of candidates: 25\n",
      "Clearing existing...\n",
      "Running UDF...\n",
      "Number of candidates: 21\n"
     ]
    }
   ],
   "source": [
    "from snorkel.contrib.fonduer.candidates import CandidateExtractor\n",
    "from snorkel.matchers import *\n",
    "\n",
    "phone_lambda_matcher =LambdaFunctionMatcher(func=find_phone_number)\n",
    "\n",
    "candidate_extractor = CandidateExtractor(Phone_Extraction,\n",
    "                                         [Phone_ngrams], [phone_lambda_matcher],candidate_filter=None)\n",
    "                                         \n",
    "# Extracting candidates from each split\n",
    "%time candidate_extractor.apply(train_docs, split=0)\n",
    "print(\"Number of candidates:\", session.query(Phone_Extraction).filter(Phone_Extraction.split == 0).count())\n",
    "%time\n",
    "for i, docs in enumerate([dev_docs, test_docs]):\n",
    "   candidate_extractor.apply(docs, split=i+1, parallelism=cfg['parallel'])\n",
    "   print(\"Number of candidates:\", session.query(Phone_Extraction).filter(Phone_Extraction.split == i+1).count())"
   ]
  },
  {
   "cell_type": "code",
   "execution_count": 8,
   "metadata": {},
   "outputs": [
    {
     "data": {
      "text/plain": [
       "[phone_extraction(Span(\"512-650-7347\", sentence=62976, chars=[0,11], words=[0,0])),\n",
       " phone_extraction(Span(\"512-650-7347\", sentence=62973, chars=[0,11], words=[0,0])),\n",
       " phone_extraction(Span(\"512-650-7347\", sentence=62990, chars=[0,11], words=[0,0])),\n",
       " phone_extraction(Span(\"512-650-7347\", sentence=62915, chars=[0,11], words=[0,0])),\n",
       " phone_extraction(Span(\"806-344-8868\", sentence=62674, chars=[0,11], words=[0,0])),\n",
       " phone_extraction(Span(\"806-344-8868\", sentence=62735, chars=[0,11], words=[0,0])),\n",
       " phone_extraction(Span(\"806-344-8868\", sentence=62755, chars=[0,11], words=[0,0])),\n",
       " phone_extraction(Span(\"806-344-8868\", sentence=62738, chars=[0,11], words=[0,0])),\n",
       " phone_extraction(Span(\"806-443-5607\", sentence=66331, chars=[0,11], words=[0,0])),\n",
       " phone_extraction(Span(\"806-443-5607\", sentence=66297, chars=[0,11], words=[0,0])),\n",
       " phone_extraction(Span(\"806-443-5607\", sentence=66178, chars=[0,11], words=[0,0])),\n",
       " phone_extraction(Span(\"806-443-5607\", sentence=66303, chars=[0,11], words=[0,0])),\n",
       " phone_extraction(Span(\"469-225-3549\", sentence=64048, chars=[0,11], words=[0,0])),\n",
       " phone_extraction(Span(\"469-225-3549\", sentence=64051, chars=[0,11], words=[0,0])),\n",
       " phone_extraction(Span(\"469-225-3549\", sentence=63990, chars=[0,11], words=[0,0])),\n",
       " phone_extraction(Span(\"469-225-3549\", sentence=64065, chars=[0,11], words=[0,0])),\n",
       " phone_extraction(Span(\"817-349-5449\", sentence=66777, chars=[0,11], words=[0,0])),\n",
       " phone_extraction(Span(\"817-349-5449\", sentence=66811, chars=[0,11], words=[0,0])),\n",
       " phone_extraction(Span(\"817-349-5449\", sentence=66661, chars=[0,11], words=[0,0])),\n",
       " phone_extraction(Span(\"817-349-5449\", sentence=66783, chars=[0,11], words=[0,0])),\n",
       " phone_extraction(Span(\"469-866-0133\", sentence=66966, chars=[0,11], words=[0,0])),\n",
       " phone_extraction(Span(\"469-866-0133\", sentence=67082, chars=[0,11], words=[0,0])),\n",
       " phone_extraction(Span(\"469-866-0133\", sentence=67117, chars=[0,11], words=[0,0])),\n",
       " phone_extraction(Span(\"469-866-0133\", sentence=67088, chars=[0,11], words=[0,0])),\n",
       " phone_extraction(Span(\"608-304-0887\", sentence=66388, chars=[0,11], words=[0,0])),\n",
       " phone_extraction(Span(\"608-304-0887\", sentence=66515, chars=[0,11], words=[0,0])),\n",
       " phone_extraction(Span(\"608-304-0887\", sentence=66571, chars=[0,11], words=[0,0])),\n",
       " phone_extraction(Span(\"214-900-2729\", sentence=64289, chars=[0,11], words=[0,0])),\n",
       " phone_extraction(Span(\"214-900-2729\", sentence=64292, chars=[0,11], words=[0,0])),\n",
       " phone_extraction(Span(\"214-900-2729\", sentence=64227, chars=[0,11], words=[0,0])),\n",
       " phone_extraction(Span(\"214-900-2729\", sentence=64306, chars=[0,11], words=[0,0])),\n",
       " phone_extraction(Span(\"901-649-9024\", sentence=65718, chars=[0,11], words=[0,0])),\n",
       " phone_extraction(Span(\"901-649-9024\", sentence=65840, chars=[0,11], words=[0,0])),\n",
       " phone_extraction(Span(\"901-649-9024\", sentence=65835, chars=[0,11], words=[0,0])),\n",
       " phone_extraction(Span(\"901-649-9024\", sentence=65868, chars=[0,11], words=[0,0])),\n",
       " phone_extraction(Span(\"254-229-9716\", sentence=65918, chars=[0,11], words=[0,0])),\n",
       " phone_extraction(Span(\"254-229-9716\", sentence=66044, chars=[0,11], words=[0,0])),\n",
       " phone_extraction(Span(\"254-229-9716\", sentence=66073, chars=[0,11], words=[0,0])),\n",
       " phone_extraction(Span(\"254-229-9716\", sentence=66038, chars=[0,11], words=[0,0])),\n",
       " phone_extraction(Span(\"(504) 345-1751\",     \"\", sentence=65193, chars=[264,285], words=[55,58])),\n",
       " phone_extraction(Span(\"504-345-1751\", sentence=65193, chars=[449,460], words=[90,90])),\n",
       " phone_extraction(Span(\"(504) 345-1751\", sentence=65004, chars=[9,30], words=[2,2])),\n",
       " phone_extraction(Span(\"(504) 345-1751 - Galve\", sentence=64968, chars=[0,21], words=[0,2])),\n",
       " phone_extraction(Span(\"(504) 345-1751\", sentence=65000, chars=[0,21], words=[0,0])),\n",
       " phone_extraction(Span(\"(504) 345-1751\", sentence=65002, chars=[0,21], words=[0,0])),\n",
       " phone_extraction(Span(\"719-298-8446\", sentence=64492, chars=[0,11], words=[0,0])),\n",
       " phone_extraction(Span(\"254-236-8536\", sentence=65249, chars=[0,11], words=[0,0])),\n",
       " phone_extraction(Span(\"719-298-8446\", sentence=64620, chars=[0,11], words=[0,0])),\n",
       " phone_extraction(Span(\"254-236-8536\", sentence=65370, chars=[0,11], words=[0,0])),\n",
       " phone_extraction(Span(\"719-298-8446\", sentence=64648, chars=[0,11], words=[0,0])),\n",
       " phone_extraction(Span(\"254-236-8536\", sentence=65398, chars=[0,11], words=[0,0])),\n",
       " phone_extraction(Span(\"719-298-8446\", sentence=64614, chars=[0,11], words=[0,0])),\n",
       " phone_extraction(Span(\"254-236-8536\", sentence=65364, chars=[0,11], words=[0,0])),\n",
       " phone_extraction(Span(\"(713) 386-9410\", sentence=62074, chars=[0,21], words=[0,0])),\n",
       " phone_extraction(Span(\"(713) 386-9410\", sentence=62076, chars=[9,30], words=[2,2])),\n",
       " phone_extraction(Span(\"(713) 386-9410\", sentence=62075, chars=[0,21], words=[0,0])),\n",
       " phone_extraction(Span(\"713-386-9410\", sentence=62171, chars=[449,460], words=[90,90])),\n",
       " phone_extraction(Span(\"(713) 386-9410\",     \"\", sentence=62171, chars=[264,285], words=[55,58])),\n",
       " phone_extraction(Span(\"(713) 386-9410 - Austi\", sentence=62059, chars=[0,21], words=[0,2])),\n",
       " phone_extraction(Span(\"281-766-0510\", sentence=63149, chars=[0,11], words=[0,0])),\n",
       " phone_extraction(Span(\"2817660510\", sentence=63168, chars=[101,110], words=[18,18])),\n",
       " phone_extraction(Span(\"281-766-0510\", sentence=63954, chars=[0,11], words=[0,0])),\n",
       " phone_extraction(Span(\"2817660510\", sentence=63899, chars=[13,22], words=[4,4])),\n",
       " phone_extraction(Span(\"281-766-0510\", sentence=63950, chars=[58,69], words=[15,15])),\n",
       " phone_extraction(Span(\"512-357-7135\", sentence=65575, chars=[0,11], words=[0,0])),\n",
       " phone_extraction(Span(\"512-357-7135\", sentence=65557, chars=[0,11], words=[0,0])),\n",
       " phone_extraction(Span(\"512 357 7135\", sentence=65638, chars=[0,11], words=[0,0])),\n",
       " phone_extraction(Span(\"512-357-7135\", sentence=65399, chars=[0,11], words=[0,0])),\n",
       " phone_extraction(Span(\"512-357-7135\", sentence=65561, chars=[7,18], words=[2,2])),\n",
       " phone_extraction(Span(\"501-326-9956\", sentence=62199, chars=[0,11], words=[0,0])),\n",
       " phone_extraction(Span(\"469-264-4920\", sentence=64569, chars=[0,11], words=[0,0])),\n",
       " phone_extraction(Span(\"501-326-9956\", sentence=62259, chars=[0,11], words=[0,0])),\n",
       " phone_extraction(Span(\"469-264-4920\", sentence=64575, chars=[0,11], words=[0,0])),\n",
       " phone_extraction(Span(\"501-326-9956\", sentence=62262, chars=[0,11], words=[0,0])),\n",
       " phone_extraction(Span(\"469-264-4920\", sentence=64603, chars=[0,11], words=[0,0])),\n",
       " phone_extraction(Span(\"832-937-6342\", sentence=64925, chars=[0,11], words=[0,0])),\n",
       " phone_extraction(Span(\"501-326-9956\", sentence=62276, chars=[0,11], words=[0,0])),\n",
       " phone_extraction(Span(\"469-264-4920\", sentence=64471, chars=[0,11], words=[0,0])),\n",
       " phone_extraction(Span(\"832-937-6342\", sentence=65047, chars=[0,11], words=[0,0])),\n",
       " phone_extraction(Span(\"832-937-6342\", sentence=65081, chars=[0,11], words=[0,0])),\n",
       " phone_extraction(Span(\"832-937-6342\", sentence=65053, chars=[0,11], words=[0,0])),\n",
       " phone_extraction(Span(\"832-919-4473\", sentence=62432, chars=[0,11], words=[0,0])),\n",
       " phone_extraction(Span(\"832-919-4473\", sentence=62498, chars=[0,11], words=[0,0])),\n",
       " phone_extraction(Span(\"832-919-4473\", sentence=62495, chars=[0,11], words=[0,0])),\n",
       " phone_extraction(Span(\"832-919-4473\", sentence=62519, chars=[0,11], words=[0,0]))]"
      ]
     },
     "execution_count": 8,
     "metadata": {},
     "output_type": "execute_result"
    }
   ],
   "source": [
    "cands = session.query(Phone_Extraction).all()\n",
    "cands\n"
   ]
  },
  {
   "cell_type": "code",
   "execution_count": null,
   "metadata": {
    "collapsed": true
   },
   "outputs": [],
   "source": []
  }
 ],
 "metadata": {
  "kernelspec": {
   "display_name": "Python 2",
   "language": "python",
   "name": "python2"
  },
  "language_info": {
   "codemirror_mode": {
    "name": "ipython",
    "version": 2
   },
   "file_extension": ".py",
   "mimetype": "text/x-python",
   "name": "python",
   "nbconvert_exporter": "python",
   "pygments_lexer": "ipython2",
   "version": "2.7.13"
  }
 },
 "nbformat": 4,
 "nbformat_minor": 2
}
