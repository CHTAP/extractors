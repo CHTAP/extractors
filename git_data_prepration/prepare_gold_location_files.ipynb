{
 "cells": [
  {
   "cell_type": "markdown",
   "metadata": {},
   "source": [
    "## Data preparation:\n",
    "\n",
    "This notebook is for preparing gold.csv. \n",
    "\n",
    "\n",
    "'Splitter_ver1.sh' applied on content.tsv to create './splitted_files_ver1/'. Therefore, './splitted_files_ver1/' contains all splitted files form content.tsv. \n",
    "\n",
    "\n",
    "For each file in './splitted_files_ver1/', get_gold_location applies and create a .csv file from it.\n",
    "Finally, all .csv files concatenate and create \"gold_files.csv\".\n",
    "\n",
    "\n"
   ]
  },
  {
   "cell_type": "code",
   "execution_count": null,
   "metadata": {},
   "outputs": [],
   "source": [
    "def get_gold_location(st):\n",
    "    tmp = st[1:-1].split(\":\")\n",
    "    keys_ = [tmp[0].strip()]\n",
    "    values_ = []\n",
    "    for s_ in tmp[1:-1]:\n",
    "        \n",
    "        global pos_\n",
    "        try:\n",
    "            pos_ = s_.rindex(\",\")\n",
    "            \n",
    "        except ValueError:\n",
    "            pass\n",
    "        values_.append(s_[2:pos_-1]) ###\n",
    "        keys_.append(s_[pos_+1:].strip())\n",
    "        #print (\"hi\")\n",
    "    values_.append(tmp[-1]) ###\n",
    "\n",
    "    d_={}\n",
    "    for k,v in zip(keys_,values_):\n",
    "            d_[k]=v\n",
    "    keys = d_.keys()  \n",
    "    keys_list = list(keys)\n",
    "    for k in keys_list:\n",
    "        if ('location' in k):\n",
    "            return(d_[k])\n",
    "    return None\n"
   ]
  },
  {
   "cell_type": "code",
   "execution_count": null,
   "metadata": {},
   "outputs": [],
   "source": [
    "import sys\n",
    "import os\n",
    "import codecs\n",
    "labeled_files_path = 'splitted_files'\n",
    "files = os.listdir(labeled_files_path)\n",
    "print (files)\n",
    "# for f in files:\n",
    "#     print(\"processing file\", f)\n",
    "#     print (f[:-4])\n",
    "df = pd.read_csv('Part14.csv')\n",
    "df.head()\n"
   ]
  },
  {
   "cell_type": "code",
   "execution_count": null,
   "metadata": {},
   "outputs": [],
   "source": [
    "import sys\n",
    "import pandas as pd\n",
    "import numpy as np\n",
    "import os\n",
    "import codecs\n",
    "import time\n",
    "import multiprocessing as mp\n",
    "labeled_files_path = './splitted_files_ver1/'\n",
    "files = os.listdir(labeled_files_path)\n",
    "print (files)\n",
    "#appended_data = []\n",
    "for f in files:\n",
    "    print(\"processing file\", f)\n",
    "    name = f[:-4]\n",
    "\n",
    "    df = pd.read_csv(labeled_files_path+f, sep='\\t', header=0)\n",
    " # drop rows include nan in \"info_extracted\" column\n",
    "    df = df.dropna(subset=[\"info_extracted\"])\n",
    " # apply get_gold_location   \n",
    "    df.loc[:,\"gold_location\"]= df[\"info_extracted\"].apply(get_gold_location)\n",
    "# drop the gold_location do not include the location\n",
    "    df_1 = df[df.gold_location.notnull()]\n",
    "#write DataFrame to a csv     \n",
    "    df_1.to_csv(name+'.csv')\n",
    "    print (name+'.csv is ready')\n",
    "\n",
    "    ## store DataFrame in list\n",
    "#     appended_data.append(df_1)\n",
    "\n",
    "# #see pd.concat documentation for more info\n",
    "# appended_data = pd.concat(appended_data)\n",
    "# # write DataFrame to a csv \n",
    "# appended_data.to_csv('appended.csv')\n",
    "\n",
    "\n",
    "#appended_data\n",
    "\n"
   ]
  },
  {
   "cell_type": "code",
   "execution_count": null,
   "metadata": {},
   "outputs": [],
   "source": [
    "# concatenate csv files\n",
    "import pandas as pd\n",
    "gold_files_path = './gold_files/'\n",
    "filenames = os.listdir(gold_files_path)\n",
    "print (filenames[0])\n",
    "appended_data = []\n",
    "for f in filenames[1:]:\n",
    "    print (f)\n",
    "    df = pd.read_csv(gold_files_path+f, sep='\\t', header=0)\n",
    "    appended_data.append(df_1)\n",
    "appended_data = pd.concat(appended_data)\n",
    "#combined_csv = pd.concat( [ pd.read_csv(f) for f in gold_files_path+filenames[1:] ] )\n",
    "appended_data.to_csv( \"gold_files.csv\", header=False)\n"
   ]
  },
  {
   "cell_type": "code",
   "execution_count": null,
   "metadata": {},
   "outputs": [],
   "source": [
    "import pandas as pd\n",
    "df = pd.read_csv('gold_files.csv', header=0)\n",
    "df.head()"
   ]
  },
  {
   "cell_type": "code",
   "execution_count": null,
   "metadata": {},
   "outputs": [],
   "source": [
    "import sys\n",
    "import pandas as pd\n",
    "import numpy as np\n",
    "import os\n",
    "gold_files_path = './gold_files/gold_sample/'\n",
    "files = os.listdir(gold_files_path)\n",
    "print (files)\n",
    "appended_data = []\n",
    "for f in files:\n",
    "    print(\"processing file\", f)\n",
    "#     name = f[:-4]\n",
    "    df = pd.read_csv(gold_files_path+f, header=0)\n",
    "    appended_data.append(df)\n",
    "appended_data = pd.concat(appended_data)\n",
    "#combined_csv = pd.concat( [ pd.read_csv(f) for f in gold_files_path+filenames[1:] ] )\n",
    "appended_data.to_csv( \"gold_samples.csv\", header=False)\n",
    "    "
   ]
  },
  {
   "cell_type": "code",
   "execution_count": null,
   "metadata": {
    "scrolled": true
   },
   "outputs": [],
   "source": [
    "df_samle=pd.read_csv(\"gold_samples.csv\",names=['index','website_name','add_type','url','text','info_extracted','gold_location'])"
   ]
  },
  {
   "cell_type": "code",
   "execution_count": null,
   "metadata": {},
   "outputs": [],
   "source": [
    "df_samle.head()"
   ]
  },
  {
   "cell_type": "markdown",
   "metadata": {},
   "source": [
    "### Inspecting  joint urls in the json file and the gold_files.csv"
   ]
  },
  {
   "cell_type": "code",
   "execution_count": 5,
   "metadata": {},
   "outputs": [],
   "source": [
    "import json\n",
    "# Loading config\n",
    "with open(\"run_config_memex.json\") as fl:\n",
    "    cfg = json.load(fl)\n",
    "cfg_params = cfg['parameters']"
   ]
  },
  {
   "cell_type": "code",
   "execution_count": 3,
   "metadata": {},
   "outputs": [],
   "source": [
    "# Reading a single json file\n",
    "import pandas as pd\n",
    "from utils import MEMEXJsonPreprocessor, HTMLListPreprocessor\n",
    "import json\n",
    "import pandas as pd\n",
    "import os\n",
    "from os.path import join\n",
    "fl_unlabeled = cfg['unlabeled_data_path']\n",
    "path_list = os.listdir(os.path.join(cfg['data_path'],fl_unlabeled))\n",
    "\n",
    "data_loc = join(cfg['data_path'],cfg['unlabeled_data_path'])\n",
    "\n",
    "# Setting jsons to load\n",
    "path_list = path_list\n",
    "doc_preprocessor = MEMEXJsonPreprocessor(data_loc,\\\n",
    "                                file_list=path_list,encoding='utf-8')\n",
    "json_files = ['0000.flat.json','0001.flat.json','0002.flat.json','0003.flat.json','0004.flat.json']\n",
    "json_pd = pd.DataFrame()\n",
    "for fl in json_files:\n",
    "    pd_temp = doc_preprocessor._read_content_file(join(cfg['data_path'],cfg['unlabeled_data_path'],fl))\n",
    "    json_pd = json_pd.append(pd_temp)"
   ]
  },
  {
   "cell_type": "code",
   "execution_count": 4,
   "metadata": {},
   "outputs": [
    {
     "name": "stderr",
     "output_type": "stream",
     "text": [
      "IOPub data rate exceeded.\n",
      "The notebook server will temporarily stop sending output\n",
      "to the client in order to avoid crashing it.\n",
      "To change this limit, set the config variable\n",
      "`--NotebookApp.iopub_data_rate_limit`.\n",
      "\n",
      "Current values:\n",
      "NotebookApp.iopub_data_rate_limit=1000000.0 (bytes/sec)\n",
      "NotebookApp.rate_limit_window=3.0 (secs)\n",
      "\n"
     ]
    }
   ],
   "source": [
    "# Checking number of files in json\n",
    "json_url_list = json_pd['url'].tolist()\n",
    "json_url_set = set(json_url_list)\n",
    "print (json_url_set)"
   ]
  },
  {
   "cell_type": "code",
   "execution_count": null,
   "metadata": {},
   "outputs": [],
   "source": []
  }
 ],
 "metadata": {
  "kernelspec": {
   "display_name": "Python 3",
   "language": "python",
   "name": "python3"
  },
  "language_info": {
   "codemirror_mode": {
    "name": "ipython",
    "version": 3
   },
   "file_extension": ".py",
   "mimetype": "text/x-python",
   "name": "python",
   "nbconvert_exporter": "python",
   "pygments_lexer": "ipython3",
   "version": "3.6.2"
  }
 },
 "nbformat": 4,
 "nbformat_minor": 2
}
